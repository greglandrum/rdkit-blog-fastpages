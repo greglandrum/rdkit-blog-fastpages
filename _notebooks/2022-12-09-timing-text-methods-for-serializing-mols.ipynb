{
 "cells": [
  {
   "cell_type": "markdown",
   "metadata": {},
   "source": [
    "#  Timing methods for serializing molecules\n",
    "> Quickly saving/restoring molecules from text formats\n",
    "\n",
    "- toc: true \n",
    "- badges: true\n",
    "- comments: true\n",
    "- categories: [reference,optimization]\n",
    "- image: images/blog/timing-text-methods1-1.png"
   ]
  },
  {
   "cell_type": "markdown",
   "metadata": {},
   "source": [
    "This is just a short one, mainly to have the information online to use as a reference.\n",
    "\n",
    "The RDKit has a number of different ways of serializing and deserializing molecules (converting them to and from strings). This post looks at how long it takes to do that with the three serialization approaches I normally recommend:\n",
    "1. CXSMILES\n",
    "2. The RDKit's internal binary format\n",
    "3. the RDKit's variant of [commonchem](https://github.com/CommonChem/CommonChem) JSON.\n",
    "\n",
    "I looked at just serializing the molecular structure, including atomic coordinates, and serializing a few propertis together with the molecule.\n",
    "\n",
    "Note that this isn't exactly comparing apples to apples: the binary and JSON formats both capture more or less the full perceived state of the molecule (aromaticity, ring systems, etc), while the CXSMILES variant doesn't include the ring information.\n",
    "\n",
    "Here are the timing results for 50K molecules from ChEMBL. I ran this on my normal desktop machine, a 3-year old Dell desktop with a 3.1GHz Intel Core9 CPU. I'm running the conda-forge RDKit build.\n",
    "\n",
    "Times are in seconds\n",
    "\n",
    "**Writing**\n",
    "\n",
    "| Method | Mol | Mol + coordinates | Mol + properties |\n",
    "|--------|-----|-------------------|------------------|\n",
    "| CXSMILES | 3.9 | 6.4 | N/A |\n",
    "| Pickle | 1.31 | 1.48 | 1.44 |\n",
    "| JSON | 2.4 | 3.1 | 4.1 |\n",
    "\n",
    "\n",
    "**Reading**\n",
    "\n",
    "| Method | Mol | Mol + coordinates | Mol + properties |\n",
    "|--------|-----|-------------------|------------------|\n",
    "| CXSMILES | 1.56 | 3.78 | N/A |\n",
    "| Pickle |  0.9 | 1.14 | 1.16 |\n",
    "| JSON | 1.66 | 2.08 | 2.14 |\n",
    "\n",
    "\n",
    "The binary format is, of course, the fastest. The JSON format is slower than that, but it's still faster than using CXSMILES when serializing coordinates and roughly equivalent to CXSMILES when just storing the molecule (but, as noted above, the JSON contains more info than the CXSMILES does). \n"
   ]
  },
  {
   "cell_type": "code",
   "execution_count": 1,
   "metadata": {
    "ExecuteTime": {
     "end_time": "2022-12-09T04:57:52.647808Z",
     "start_time": "2022-12-09T04:57:52.542335Z"
    }
   },
   "outputs": [
    {
     "name": "stdout",
     "output_type": "stream",
     "text": [
      "2022.09.1\n"
     ]
    }
   ],
   "source": [
    "from rdkit import Chem\n",
    "import time\n",
    "import gzip\n",
    "import rdkit\n",
    "print(rdkit.__version__)"
   ]
  },
  {
   "cell_type": "markdown",
   "metadata": {},
   "source": [
    "Read in a set of 50K ChEMBL molecules that we'll use for the testing."
   ]
  },
  {
   "cell_type": "code",
   "execution_count": 2,
   "metadata": {
    "ExecuteTime": {
     "end_time": "2022-12-09T04:57:59.891842Z",
     "start_time": "2022-12-09T04:57:52.649355Z"
    }
   },
   "outputs": [],
   "source": [
    "mols = []\n",
    "suppl = Chem.SmilesMolSupplier('../data/new_chembl_document_activity_set.smi')\n",
    "while len(mols)<50000:\n",
    "    try:\n",
    "        m = next(suppl)\n",
    "    except StopIteration:\n",
    "        break;\n",
    "    mols.append(m)\n",
    "    "
   ]
  },
  {
   "cell_type": "code",
   "execution_count": 3,
   "metadata": {
    "ExecuteTime": {
     "end_time": "2022-12-09T04:57:59.900161Z",
     "start_time": "2022-12-09T04:57:59.893106Z"
    }
   },
   "outputs": [
    {
     "data": {
      "text/plain": [
       "50000"
      ]
     },
     "execution_count": 3,
     "metadata": {},
     "output_type": "execute_result"
    }
   ],
   "source": [
    "len(mols)"
   ]
  },
  {
   "cell_type": "markdown",
   "metadata": {},
   "source": [
    "This class makes timing our runs easier:"
   ]
  },
  {
   "cell_type": "code",
   "execution_count": 4,
   "metadata": {
    "ExecuteTime": {
     "end_time": "2022-12-09T04:58:00.082129Z",
     "start_time": "2022-12-09T04:57:59.901949Z"
    }
   },
   "outputs": [],
   "source": [
    "class timer(object):\n",
    "    def __init__(self, *args, **kwargs):\n",
    "        pass\n",
    "    def __enter__(self):\n",
    "        self.t1=time.time()\n",
    "    def __exit__(self, type, value, traceback):\n",
    "        delta = time.time()-self.t1\n",
    "        print(f'That took {delta:.2f} seconds')\n"
   ]
  },
  {
   "cell_type": "code",
   "execution_count": 26,
   "metadata": {
    "ExecuteTime": {
     "end_time": "2022-12-09T05:52:42.589997Z",
     "start_time": "2022-12-09T05:52:42.586522Z"
    }
   },
   "outputs": [
    {
     "data": {
      "text/plain": [
       "'{\"commonchem\":{\"version\":10},\"defaults\":{\"atom\":{\"z\":6,\"impHs\":0,\"chg\":0,\"nRad\":0,\"isotope\":0,\"stereo\":\"unspecified\"},\"bond\":{\"bo\":1,\"stereo\":\"unspecified\"}},\"molecules\":[{\"name\":\"436078\",\"atoms\":[{\"z\":8,\"chg\":-1},{\"z\":7,\"chg\":1},{\"z\":8},{},{\"impHs\":1},{\"impHs\":1},{},{\"z\":7},{},{\"z\":8},{\"impHs\":1,\"stereo\":\"ccw\"},{\"impHs\":1},{\"impHs\":2},{\"impHs\":2},{\"impHs\":1},{\"z\":8},{\"impHs\":1,\"stereo\":\"ccw\"},{},{\"z\":8},{},{\"impHs\":1},{\"impHs\":1},{\"impHs\":1},{\"impHs\":1},{}],\"bonds\":[{\"atoms\":[0,1]},{\"bo\":2,\"atoms\":[1,2]},{\"atoms\":[1,3]},{\"bo\":2,\"atoms\":[3,4]},{\"atoms\":[4,5]},{\"bo\":2,\"atoms\":[5,6]},{\"atoms\":[6,7]},{\"atoms\":[7,8]},{\"bo\":2,\"atoms\":[8,9]},{\"atoms\":[8,10]},{\"atoms\":[10,11]},{\"atoms\":[11,12]},{\"atoms\":[12,13]},{\"atoms\":[13,14]},{\"atoms\":[14,15]},{\"atoms\":[14,16]},{\"atoms\":[16,17]},{\"bo\":2,\"atoms\":[17,18]},{\"atoms\":[6,19]},{\"bo\":2,\"atoms\":[19,20]},{\"atoms\":[20,21]},{\"bo\":2,\"atoms\":[21,22]},{\"atoms\":[22,23]},{\"bo\":2,\"atoms\":[23,24]},{\"atoms\":[24,3]},{\"atoms\":[17,7]},{\"atoms\":[16,10]},{\"atoms\":[15,11]},{\"atoms\":[24,19]}],\"properties\":{\"numAtoms\":25,\"numBonds\":29,\"numRings\":5,\"smiles\":\"O=C1[C@@H]2C3CCC(O3)[C@@H]2C(=O)N1c1ccc([N+](=O)[O-])c2ccccc12\"},\"extensions\":[{\"name\":\"rdkitRepresentation\",\"formatVersion\":2,\"toolkitVersion\":\"2022.09.1\",\"aromaticAtoms\":[3,4,5,6,19,20,21,22,23,24],\"aromaticBonds\":[3,4,5,18,19,20,21,22,23,24,28],\"cipRanks\":[23,19,24,13,7,6,12,18,16,21,8,14,0,1,15,20,9,17,22,10,4,2,3,5,11],\"cipCodes\":[[10,\"S\"],[16,\"R\"]],\"atomRings\":[[3,24,19,6,5,4],[8,7,17,16,10],[12,11,15,14,13],[15,14,16,10,11],[20,21,22,23,24,19]]}]}]}'"
      ]
     },
     "execution_count": 26,
     "metadata": {},
     "output_type": "execute_result"
    }
   ],
   "source": [
    "jsons[0]"
   ]
  },
  {
   "cell_type": "markdown",
   "metadata": {},
   "source": [
    "# Molecules without conformers"
   ]
  },
  {
   "cell_type": "markdown",
   "metadata": {},
   "source": [
    "Generating CXSMILES:"
   ]
  },
  {
   "cell_type": "code",
   "execution_count": 5,
   "metadata": {
    "ExecuteTime": {
     "end_time": "2022-12-09T04:58:04.103873Z",
     "start_time": "2022-12-09T04:58:00.086671Z"
    }
   },
   "outputs": [
    {
     "name": "stdout",
     "output_type": "stream",
     "text": [
      "That took 3.88 seconds\n"
     ]
    }
   ],
   "source": [
    "with timer() as cm:\n",
    "    smis = [Chem.MolToCXSmiles(m) for m in mols]"
   ]
  },
  {
   "cell_type": "markdown",
   "metadata": {},
   "source": [
    "Generating the RDKit's binary format:"
   ]
  },
  {
   "cell_type": "code",
   "execution_count": 6,
   "metadata": {
    "ExecuteTime": {
     "end_time": "2022-12-09T04:58:05.419327Z",
     "start_time": "2022-12-09T04:58:04.105062Z"
    }
   },
   "outputs": [
    {
     "name": "stdout",
     "output_type": "stream",
     "text": [
      "That took 1.31 seconds\n"
     ]
    }
   ],
   "source": [
    "with timer() as cm:\n",
    "    pkls = [m.ToBinary() for m in mols]"
   ]
  },
  {
   "cell_type": "markdown",
   "metadata": {},
   "source": [
    "Generating the RDKit's variant of [commonchem](https://github.com/CommonChem/CommonChem) JSON:"
   ]
  },
  {
   "cell_type": "code",
   "execution_count": 7,
   "metadata": {
    "ExecuteTime": {
     "end_time": "2022-12-09T04:58:07.825913Z",
     "start_time": "2022-12-09T04:58:05.420333Z"
    }
   },
   "outputs": [
    {
     "name": "stdout",
     "output_type": "stream",
     "text": [
      "That took 2.40 seconds\n"
     ]
    }
   ],
   "source": [
    "with timer() as cm:\n",
    "    jsons = [Chem.MolToJSON(m) for m in mols]"
   ]
  },
  {
   "cell_type": "markdown",
   "metadata": {},
   "source": [
    "Generating JSON for all of the molecules at once:"
   ]
  },
  {
   "cell_type": "code",
   "execution_count": 8,
   "metadata": {
    "ExecuteTime": {
     "end_time": "2022-12-09T04:58:10.657864Z",
     "start_time": "2022-12-09T04:58:07.826983Z"
    }
   },
   "outputs": [
    {
     "name": "stdout",
     "output_type": "stream",
     "text": [
      "That took 2.83 seconds\n"
     ]
    }
   ],
   "source": [
    "with timer() as cm:\n",
    "    allJson = Chem.MolsToJSON(mols)"
   ]
  },
  {
   "cell_type": "markdown",
   "metadata": {},
   "source": [
    "Now look at reading the molecules.\n",
    "\n",
    "Start from SMILES, but skip full sanitization since we know that the chemistry and aromaticity are correct:"
   ]
  },
  {
   "cell_type": "code",
   "execution_count": 9,
   "metadata": {
    "ExecuteTime": {
     "end_time": "2022-12-09T04:58:13.120885Z",
     "start_time": "2022-12-09T04:58:10.658914Z"
    }
   },
   "outputs": [
    {
     "name": "stdout",
     "output_type": "stream",
     "text": [
      "That took 1.56 seconds\n"
     ]
    }
   ],
   "source": [
    "with timer() as cm:\n",
    "    for smi in smis:\n",
    "        m = Chem.MolFromSmiles(smi,sanitize=False)\n",
    "        m.UpdatePropertyCache()"
   ]
  },
  {
   "cell_type": "markdown",
   "metadata": {},
   "source": [
    "From the binary format:"
   ]
  },
  {
   "cell_type": "code",
   "execution_count": 10,
   "metadata": {
    "ExecuteTime": {
     "end_time": "2022-12-09T04:58:14.048187Z",
     "start_time": "2022-12-09T04:58:13.122950Z"
    }
   },
   "outputs": [
    {
     "name": "stdout",
     "output_type": "stream",
     "text": [
      "That took 0.92 seconds\n"
     ]
    }
   ],
   "source": [
    "with timer() as cm:\n",
    "    for pkl in pkls:\n",
    "        m = Chem.Mol(pkl)"
   ]
  },
  {
   "cell_type": "markdown",
   "metadata": {},
   "source": [
    "And the two variants for parsing JSON:"
   ]
  },
  {
   "cell_type": "code",
   "execution_count": 11,
   "metadata": {
    "ExecuteTime": {
     "end_time": "2022-12-09T04:58:15.712186Z",
     "start_time": "2022-12-09T04:58:14.049254Z"
    }
   },
   "outputs": [
    {
     "name": "stdout",
     "output_type": "stream",
     "text": [
      "That took 1.66 seconds\n"
     ]
    }
   ],
   "source": [
    "with timer() as cm:\n",
    "    for js in jsons:\n",
    "        m = Chem.JSONToMols(js)[0]"
   ]
  },
  {
   "cell_type": "code",
   "execution_count": 12,
   "metadata": {
    "ExecuteTime": {
     "end_time": "2022-12-09T04:58:17.206460Z",
     "start_time": "2022-12-09T04:58:15.713387Z"
    }
   },
   "outputs": [
    {
     "name": "stdout",
     "output_type": "stream",
     "text": [
      "That took 1.49 seconds\n"
     ]
    }
   ],
   "source": [
    "with timer() as cm:\n",
    "    _ = Chem.JSONToMols(allJson)"
   ]
  },
  {
   "cell_type": "markdown",
   "metadata": {},
   "source": [
    "# Molecules with a conformer"
   ]
  },
  {
   "cell_type": "markdown",
   "metadata": {},
   "source": [
    "Add a conformer to each molecule (which will be written to the output) and re-do the timing runs:"
   ]
  },
  {
   "cell_type": "code",
   "execution_count": 13,
   "metadata": {
    "ExecuteTime": {
     "end_time": "2022-12-09T04:58:28.728407Z",
     "start_time": "2022-12-09T04:58:17.207590Z"
    }
   },
   "outputs": [],
   "source": [
    "from rdkit.Chem import rdDepictor\n",
    "for mol in mols:\n",
    "    rdDepictor.Compute2DCoords(mol)"
   ]
  },
  {
   "cell_type": "code",
   "execution_count": 14,
   "metadata": {
    "ExecuteTime": {
     "end_time": "2022-12-09T04:58:35.160370Z",
     "start_time": "2022-12-09T04:58:28.729540Z"
    }
   },
   "outputs": [
    {
     "name": "stdout",
     "output_type": "stream",
     "text": [
      "That took 6.43 seconds\n"
     ]
    }
   ],
   "source": [
    "with timer() as cm:\n",
    "    smis = [Chem.MolToCXSmiles(m) for m in mols]"
   ]
  },
  {
   "cell_type": "code",
   "execution_count": 15,
   "metadata": {
    "ExecuteTime": {
     "end_time": "2022-12-09T04:58:35.164280Z",
     "start_time": "2022-12-09T04:58:35.161396Z"
    }
   },
   "outputs": [
    {
     "data": {
      "text/plain": [
       "'O=C1[C@@H]2C3CCC(O3)[C@@H]2C(=O)N1c1ccc([N+](=O)[O-])c2ccccc12 |(-1.03854,-2.25072,;-1.65866,-0.884909,;-3.12813,-0.583792,;-4.49394,-1.20391,;-5.96341,-0.902797,;-6.13112,0.587798,;-4.7653,1.20792,;-3.75347,0.100581,;-3.29584,0.906803,;-1.93002,1.52692,;-1.62891,2.99639,;-0.918193,0.419586,;0.572402,0.587296,;1.17246,1.96204,;2.66305,2.12976,;3.55359,0.922718,;5.04419,1.09043,;5.93473,-0.116609,;5.64424,2.46518,;2.95354,-0.452031,;3.84407,-1.65907,;3.24402,-3.03382,;1.75342,-3.20153,;0.862885,-1.99449,;1.46294,-0.619741,)|'"
      ]
     },
     "execution_count": 15,
     "metadata": {},
     "output_type": "execute_result"
    }
   ],
   "source": [
    "smis[0]"
   ]
  },
  {
   "cell_type": "code",
   "execution_count": 16,
   "metadata": {
    "ExecuteTime": {
     "end_time": "2022-12-09T04:58:36.769456Z",
     "start_time": "2022-12-09T04:58:35.165809Z"
    }
   },
   "outputs": [
    {
     "name": "stdout",
     "output_type": "stream",
     "text": [
      "That took 1.48 seconds\n"
     ]
    }
   ],
   "source": [
    "with timer() as cm:\n",
    "    pkls = [m.ToBinary() for m in mols]"
   ]
  },
  {
   "cell_type": "code",
   "execution_count": 17,
   "metadata": {
    "ExecuteTime": {
     "end_time": "2022-12-09T04:58:39.847219Z",
     "start_time": "2022-12-09T04:58:36.770859Z"
    }
   },
   "outputs": [
    {
     "name": "stdout",
     "output_type": "stream",
     "text": [
      "That took 3.07 seconds\n"
     ]
    }
   ],
   "source": [
    "with timer() as cm:\n",
    "    jsons = [Chem.MolToJSON(m) for m in mols]"
   ]
  },
  {
   "cell_type": "code",
   "execution_count": 18,
   "metadata": {
    "ExecuteTime": {
     "end_time": "2022-12-09T04:58:43.635706Z",
     "start_time": "2022-12-09T04:58:39.848792Z"
    }
   },
   "outputs": [
    {
     "name": "stdout",
     "output_type": "stream",
     "text": [
      "That took 3.78 seconds\n"
     ]
    }
   ],
   "source": [
    "with timer() as cm:\n",
    "    for smi in smis:\n",
    "        m = Chem.MolFromSmiles(smi,sanitize=False)\n",
    "        m.UpdatePropertyCache()"
   ]
  },
  {
   "cell_type": "code",
   "execution_count": 19,
   "metadata": {
    "ExecuteTime": {
     "end_time": "2022-12-09T04:58:44.776245Z",
     "start_time": "2022-12-09T04:58:43.636980Z"
    }
   },
   "outputs": [
    {
     "name": "stdout",
     "output_type": "stream",
     "text": [
      "That took 1.14 seconds\n"
     ]
    }
   ],
   "source": [
    "with timer() as cm:\n",
    "    for pkl in pkls:\n",
    "        m = Chem.Mol(pkl)"
   ]
  },
  {
   "cell_type": "code",
   "execution_count": 20,
   "metadata": {
    "ExecuteTime": {
     "end_time": "2022-12-09T04:58:46.859527Z",
     "start_time": "2022-12-09T04:58:44.777172Z"
    }
   },
   "outputs": [
    {
     "name": "stdout",
     "output_type": "stream",
     "text": [
      "That took 2.08 seconds\n"
     ]
    }
   ],
   "source": [
    "with timer() as cm:\n",
    "    for js in jsons:\n",
    "        m = Chem.JSONToMols(js)[0]"
   ]
  },
  {
   "cell_type": "markdown",
   "metadata": {},
   "source": [
    "# Molecules with properties"
   ]
  },
  {
   "cell_type": "markdown",
   "metadata": {},
   "source": [
    "Since all three formats can also save properties, see how those impact writing and parsing times:"
   ]
  },
  {
   "cell_type": "code",
   "execution_count": 21,
   "metadata": {
    "ExecuteTime": {
     "end_time": "2022-12-09T04:58:51.694045Z",
     "start_time": "2022-12-09T04:58:46.860730Z"
    }
   },
   "outputs": [],
   "source": [
    "for mol in mols:\n",
    "    mol.RemoveAllConformers()\n",
    "    mol.SetIntProp('numAtoms',mol.GetNumAtoms())\n",
    "    mol.SetIntProp('numBonds',mol.GetNumBonds())\n",
    "    mol.SetIntProp('numRings',mol.GetRingInfo().NumRings())\n",
    "    mol.SetProp('smiles',Chem.MolToSmiles(mol))\n",
    "    "
   ]
  },
  {
   "cell_type": "code",
   "execution_count": 22,
   "metadata": {
    "ExecuteTime": {
     "end_time": "2022-12-09T04:58:53.139144Z",
     "start_time": "2022-12-09T04:58:51.695108Z"
    }
   },
   "outputs": [
    {
     "name": "stdout",
     "output_type": "stream",
     "text": [
      "That took 1.44 seconds\n"
     ]
    }
   ],
   "source": [
    "with timer() as cm:\n",
    "    pkls = [m.ToBinary(Chem.PropertyPickleOptions.MolProps) for m in mols]"
   ]
  },
  {
   "cell_type": "code",
   "execution_count": 23,
   "metadata": {
    "ExecuteTime": {
     "end_time": "2022-12-09T04:58:57.228644Z",
     "start_time": "2022-12-09T04:58:53.140068Z"
    }
   },
   "outputs": [
    {
     "name": "stdout",
     "output_type": "stream",
     "text": [
      "That took 4.09 seconds\n"
     ]
    }
   ],
   "source": [
    "with timer() as cm:\n",
    "    jsons = [Chem.MolToJSON(m) for m in mols]"
   ]
  },
  {
   "cell_type": "code",
   "execution_count": 24,
   "metadata": {
    "ExecuteTime": {
     "end_time": "2022-12-09T04:58:58.387478Z",
     "start_time": "2022-12-09T04:58:57.229722Z"
    }
   },
   "outputs": [
    {
     "name": "stdout",
     "output_type": "stream",
     "text": [
      "That took 1.16 seconds\n"
     ]
    }
   ],
   "source": [
    "with timer() as cm:\n",
    "    for pkl in pkls:\n",
    "        m = Chem.Mol(pkl)"
   ]
  },
  {
   "cell_type": "code",
   "execution_count": 25,
   "metadata": {
    "ExecuteTime": {
     "end_time": "2022-12-09T04:59:00.526830Z",
     "start_time": "2022-12-09T04:58:58.388913Z"
    }
   },
   "outputs": [
    {
     "name": "stdout",
     "output_type": "stream",
     "text": [
      "That took 2.14 seconds\n"
     ]
    }
   ],
   "source": [
    "with timer() as cm:\n",
    "    for js in jsons:\n",
    "        m = Chem.JSONToMols(js)[0]"
   ]
  },
  {
   "cell_type": "code",
   "execution_count": null,
   "metadata": {},
   "outputs": [],
   "source": []
  }
 ],
 "metadata": {
  "kernelspec": {
   "display_name": "Python 3 (ipykernel)",
   "language": "python",
   "name": "python3"
  },
  "language_info": {
   "codemirror_mode": {
    "name": "ipython",
    "version": 3
   },
   "file_extension": ".py",
   "mimetype": "text/x-python",
   "name": "python",
   "nbconvert_exporter": "python",
   "pygments_lexer": "ipython3",
   "version": "3.10.8"
  },
  "toc": {
   "base_numbering": 1,
   "nav_menu": {},
   "number_sections": true,
   "sideBar": true,
   "skip_h1_title": false,
   "title_cell": "Table of Contents",
   "title_sidebar": "Contents",
   "toc_cell": false,
   "toc_position": {},
   "toc_section_display": true,
   "toc_window_display": false
  }
 },
 "nbformat": 4,
 "nbformat_minor": 4
}
